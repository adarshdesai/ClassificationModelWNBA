{
 "cells": [
  {
   "cell_type": "markdown",
   "metadata": {},
   "source": [
    "# Classification Model\n",
    "\n",
    "## Dataset - WNBA team elo ratings\n"
   ]
  },
  {
   "cell_type": "markdown",
   "metadata": {},
   "source": [
    "## Step 1 - Calling libraries"
   ]
  },
  {
   "cell_type": "code",
   "execution_count": 1,
   "metadata": {},
   "outputs": [],
   "source": [
    "from sklearn.tree import DecisionTreeClassifier \n",
    "from sklearn.metrics import accuracy_score \n",
    "from sklearn.model_selection import train_test_split \n",
    "from sklearn.preprocessing import MinMaxScaler\n",
    "from numpy import set_printoptions\n",
    "from sklearn.preprocessing import StandardScaler\n",
    "from sklearn.preprocessing import Normalizer\n",
    "\n",
    "import pandas as pd \n",
    "import seaborn as sns\n",
    "import matplotlib.pyplot as plt"
   ]
  },
  {
   "cell_type": "markdown",
   "metadata": {},
   "source": [
    "## Step 2 - Data definition, Data Cleaning and Data Preparation"
   ]
  },
  {
   "cell_type": "code",
   "execution_count": 2,
   "metadata": {},
   "outputs": [],
   "source": [
    "df = pd.read_csv('wnba-team-elo-ratings.csv')"
   ]
  },
  {
   "cell_type": "code",
   "execution_count": 3,
   "metadata": {},
   "outputs": [
    {
     "data": {
      "text/html": [
       "<div>\n",
       "<style scoped>\n",
       "    .dataframe tbody tr th:only-of-type {\n",
       "        vertical-align: middle;\n",
       "    }\n",
       "\n",
       "    .dataframe tbody tr th {\n",
       "        vertical-align: top;\n",
       "    }\n",
       "\n",
       "    .dataframe thead th {\n",
       "        text-align: right;\n",
       "    }\n",
       "</style>\n",
       "<table border=\"1\" class=\"dataframe\">\n",
       "  <thead>\n",
       "    <tr style=\"text-align: right;\">\n",
       "      <th></th>\n",
       "      <th>season</th>\n",
       "      <th>date</th>\n",
       "      <th>team1</th>\n",
       "      <th>team2</th>\n",
       "      <th>name1</th>\n",
       "      <th>name2</th>\n",
       "      <th>neutral</th>\n",
       "      <th>playoff</th>\n",
       "      <th>score1</th>\n",
       "      <th>score2</th>\n",
       "      <th>elo1_pre</th>\n",
       "      <th>elo2_pre</th>\n",
       "      <th>elo1_post</th>\n",
       "      <th>elo2_post</th>\n",
       "      <th>prob1</th>\n",
       "      <th>is_home1</th>\n",
       "    </tr>\n",
       "  </thead>\n",
       "  <tbody>\n",
       "    <tr>\n",
       "      <th>0</th>\n",
       "      <td>2019</td>\n",
       "      <td>10/10/2019</td>\n",
       "      <td>WAS</td>\n",
       "      <td>CON</td>\n",
       "      <td>Washington Mystics</td>\n",
       "      <td>Connecticut Sun</td>\n",
       "      <td>0</td>\n",
       "      <td>1</td>\n",
       "      <td>89</td>\n",
       "      <td>78</td>\n",
       "      <td>1684</td>\n",
       "      <td>1634</td>\n",
       "      <td>1692</td>\n",
       "      <td>1627</td>\n",
       "      <td>0.718</td>\n",
       "      <td>1</td>\n",
       "    </tr>\n",
       "    <tr>\n",
       "      <th>1</th>\n",
       "      <td>2019</td>\n",
       "      <td>10/10/2019</td>\n",
       "      <td>CON</td>\n",
       "      <td>WAS</td>\n",
       "      <td>Connecticut Sun</td>\n",
       "      <td>Washington Mystics</td>\n",
       "      <td>0</td>\n",
       "      <td>1</td>\n",
       "      <td>78</td>\n",
       "      <td>89</td>\n",
       "      <td>1634</td>\n",
       "      <td>1684</td>\n",
       "      <td>1627</td>\n",
       "      <td>1692</td>\n",
       "      <td>0.282</td>\n",
       "      <td>0</td>\n",
       "    </tr>\n",
       "    <tr>\n",
       "      <th>2</th>\n",
       "      <td>2019</td>\n",
       "      <td>10/8/2019</td>\n",
       "      <td>WAS</td>\n",
       "      <td>CON</td>\n",
       "      <td>Washington Mystics</td>\n",
       "      <td>Connecticut Sun</td>\n",
       "      <td>0</td>\n",
       "      <td>1</td>\n",
       "      <td>86</td>\n",
       "      <td>90</td>\n",
       "      <td>1693</td>\n",
       "      <td>1626</td>\n",
       "      <td>1684</td>\n",
       "      <td>1634</td>\n",
       "      <td>0.476</td>\n",
       "      <td>0</td>\n",
       "    </tr>\n",
       "    <tr>\n",
       "      <th>3</th>\n",
       "      <td>2019</td>\n",
       "      <td>10/8/2019</td>\n",
       "      <td>CON</td>\n",
       "      <td>WAS</td>\n",
       "      <td>Connecticut Sun</td>\n",
       "      <td>Washington Mystics</td>\n",
       "      <td>0</td>\n",
       "      <td>1</td>\n",
       "      <td>90</td>\n",
       "      <td>86</td>\n",
       "      <td>1626</td>\n",
       "      <td>1693</td>\n",
       "      <td>1634</td>\n",
       "      <td>1684</td>\n",
       "      <td>0.524</td>\n",
       "      <td>1</td>\n",
       "    </tr>\n",
       "    <tr>\n",
       "      <th>4</th>\n",
       "      <td>2019</td>\n",
       "      <td>10/6/2019</td>\n",
       "      <td>WAS</td>\n",
       "      <td>CON</td>\n",
       "      <td>Washington Mystics</td>\n",
       "      <td>Connecticut Sun</td>\n",
       "      <td>0</td>\n",
       "      <td>1</td>\n",
       "      <td>94</td>\n",
       "      <td>81</td>\n",
       "      <td>1671</td>\n",
       "      <td>1648</td>\n",
       "      <td>1693</td>\n",
       "      <td>1626</td>\n",
       "      <td>0.399</td>\n",
       "      <td>0</td>\n",
       "    </tr>\n",
       "    <tr>\n",
       "      <th>5</th>\n",
       "      <td>2019</td>\n",
       "      <td>10/6/2019</td>\n",
       "      <td>CON</td>\n",
       "      <td>WAS</td>\n",
       "      <td>Connecticut Sun</td>\n",
       "      <td>Washington Mystics</td>\n",
       "      <td>0</td>\n",
       "      <td>1</td>\n",
       "      <td>81</td>\n",
       "      <td>94</td>\n",
       "      <td>1648</td>\n",
       "      <td>1671</td>\n",
       "      <td>1626</td>\n",
       "      <td>1693</td>\n",
       "      <td>0.601</td>\n",
       "      <td>1</td>\n",
       "    </tr>\n",
       "    <tr>\n",
       "      <th>6</th>\n",
       "      <td>2019</td>\n",
       "      <td>10/1/2019</td>\n",
       "      <td>WAS</td>\n",
       "      <td>CON</td>\n",
       "      <td>Washington Mystics</td>\n",
       "      <td>Connecticut Sun</td>\n",
       "      <td>0</td>\n",
       "      <td>1</td>\n",
       "      <td>87</td>\n",
       "      <td>99</td>\n",
       "      <td>1700</td>\n",
       "      <td>1618</td>\n",
       "      <td>1671</td>\n",
       "      <td>1648</td>\n",
       "      <td>0.763</td>\n",
       "      <td>1</td>\n",
       "    </tr>\n",
       "    <tr>\n",
       "      <th>7</th>\n",
       "      <td>2019</td>\n",
       "      <td>10/1/2019</td>\n",
       "      <td>CON</td>\n",
       "      <td>WAS</td>\n",
       "      <td>Connecticut Sun</td>\n",
       "      <td>Washington Mystics</td>\n",
       "      <td>0</td>\n",
       "      <td>1</td>\n",
       "      <td>99</td>\n",
       "      <td>87</td>\n",
       "      <td>1618</td>\n",
       "      <td>1700</td>\n",
       "      <td>1648</td>\n",
       "      <td>1671</td>\n",
       "      <td>0.237</td>\n",
       "      <td>0</td>\n",
       "    </tr>\n",
       "    <tr>\n",
       "      <th>8</th>\n",
       "      <td>2019</td>\n",
       "      <td>9/29/2019</td>\n",
       "      <td>WAS</td>\n",
       "      <td>CON</td>\n",
       "      <td>Washington Mystics</td>\n",
       "      <td>Connecticut Sun</td>\n",
       "      <td>0</td>\n",
       "      <td>1</td>\n",
       "      <td>95</td>\n",
       "      <td>86</td>\n",
       "      <td>1694</td>\n",
       "      <td>1624</td>\n",
       "      <td>1700</td>\n",
       "      <td>1618</td>\n",
       "      <td>0.747</td>\n",
       "      <td>1</td>\n",
       "    </tr>\n",
       "    <tr>\n",
       "      <th>9</th>\n",
       "      <td>2019</td>\n",
       "      <td>9/29/2019</td>\n",
       "      <td>CON</td>\n",
       "      <td>WAS</td>\n",
       "      <td>Connecticut Sun</td>\n",
       "      <td>Washington Mystics</td>\n",
       "      <td>0</td>\n",
       "      <td>1</td>\n",
       "      <td>86</td>\n",
       "      <td>95</td>\n",
       "      <td>1624</td>\n",
       "      <td>1694</td>\n",
       "      <td>1618</td>\n",
       "      <td>1700</td>\n",
       "      <td>0.253</td>\n",
       "      <td>0</td>\n",
       "    </tr>\n",
       "  </tbody>\n",
       "</table>\n",
       "</div>"
      ],
      "text/plain": [
       "   season        date team1 team2               name1               name2  \\\n",
       "0    2019  10/10/2019   WAS   CON  Washington Mystics     Connecticut Sun   \n",
       "1    2019  10/10/2019   CON   WAS     Connecticut Sun  Washington Mystics   \n",
       "2    2019   10/8/2019   WAS   CON  Washington Mystics     Connecticut Sun   \n",
       "3    2019   10/8/2019   CON   WAS     Connecticut Sun  Washington Mystics   \n",
       "4    2019   10/6/2019   WAS   CON  Washington Mystics     Connecticut Sun   \n",
       "5    2019   10/6/2019   CON   WAS     Connecticut Sun  Washington Mystics   \n",
       "6    2019   10/1/2019   WAS   CON  Washington Mystics     Connecticut Sun   \n",
       "7    2019   10/1/2019   CON   WAS     Connecticut Sun  Washington Mystics   \n",
       "8    2019   9/29/2019   WAS   CON  Washington Mystics     Connecticut Sun   \n",
       "9    2019   9/29/2019   CON   WAS     Connecticut Sun  Washington Mystics   \n",
       "\n",
       "   neutral  playoff  score1  score2  elo1_pre  elo2_pre  elo1_post  elo2_post  \\\n",
       "0        0        1      89      78      1684      1634       1692       1627   \n",
       "1        0        1      78      89      1634      1684       1627       1692   \n",
       "2        0        1      86      90      1693      1626       1684       1634   \n",
       "3        0        1      90      86      1626      1693       1634       1684   \n",
       "4        0        1      94      81      1671      1648       1693       1626   \n",
       "5        0        1      81      94      1648      1671       1626       1693   \n",
       "6        0        1      87      99      1700      1618       1671       1648   \n",
       "7        0        1      99      87      1618      1700       1648       1671   \n",
       "8        0        1      95      86      1694      1624       1700       1618   \n",
       "9        0        1      86      95      1624      1694       1618       1700   \n",
       "\n",
       "   prob1  is_home1  \n",
       "0  0.718         1  \n",
       "1  0.282         0  \n",
       "2  0.476         0  \n",
       "3  0.524         1  \n",
       "4  0.399         0  \n",
       "5  0.601         1  \n",
       "6  0.763         1  \n",
       "7  0.237         0  \n",
       "8  0.747         1  \n",
       "9  0.253         0  "
      ]
     },
     "execution_count": 3,
     "metadata": {},
     "output_type": "execute_result"
    }
   ],
   "source": [
    "df.head(10)"
   ]
  },
  {
   "cell_type": "markdown",
   "metadata": {},
   "source": [
    "### Visualization"
   ]
  },
  {
   "cell_type": "code",
   "execution_count": 4,
   "metadata": {},
   "outputs": [
    {
     "data": {
      "image/png": "[encoded data removed]",
      "text/plain": [
       "<Figure size 936x1152 with 3 Axes>"
      ]
     },
     "metadata": {
      "needs_background": "light"
     },
     "output_type": "display_data"
    }
   ],
   "source": [
    "features=['team1','playoff','is_home1']\n",
    "\n",
    "plot = plt.subplots(figsize=(13,16))\n",
    "\n",
    "for a, b in enumerate(features):\n",
    "    plt.subplot(4, 2, a+1)\n",
    "    plt.subplots_adjust(hspace = 0.5)\n",
    "    sns.countplot(x=b, data = df)\n",
    "    plt.xticks(rotation=45)\n",
    "    plt.title('Number of games')"
   ]
  },
  {
   "cell_type": "markdown",
   "metadata": {},
   "source": [
    "### Check categories of Label variable - is_home1"
   ]
  },
  {
   "cell_type": "code",
   "execution_count": 5,
   "metadata": {},
   "outputs": [
    {
     "data": {
      "text/plain": [
       "is_home1\n",
       "0    5244\n",
       "1    5244\n",
       "dtype: int64"
      ]
     },
     "execution_count": 5,
     "metadata": {},
     "output_type": "execute_result"
    }
   ],
   "source": [
    "df.groupby('is_home1').size()"
   ]
  },
  {
   "cell_type": "markdown",
   "metadata": {},
   "source": [
    "### Dropping unrelated columns"
   ]
  },
  {
   "cell_type": "code",
   "execution_count": 6,
   "metadata": {},
   "outputs": [],
   "source": [
    "i = [0,1,2,3,4,5]\n",
    "df.drop(df.columns[i],axis=1,inplace=True)"
   ]
  },
  {
   "cell_type": "markdown",
   "metadata": {},
   "source": [
    "### Current rows and columns of the dataframe"
   ]
  },
  {
   "cell_type": "code",
   "execution_count": 7,
   "metadata": {},
   "outputs": [
    {
     "data": {
      "text/plain": [
       "(10488, 10)"
      ]
     },
     "execution_count": 7,
     "metadata": {},
     "output_type": "execute_result"
    }
   ],
   "source": [
    "df.shape"
   ]
  },
  {
   "cell_type": "markdown",
   "metadata": {},
   "source": [
    "### Check for null entries if any"
   ]
  },
  {
   "cell_type": "code",
   "execution_count": 8,
   "metadata": {},
   "outputs": [
    {
     "data": {
      "text/html": [
       "<div>\n",
       "<style scoped>\n",
       "    .dataframe tbody tr th:only-of-type {\n",
       "        vertical-align: middle;\n",
       "    }\n",
       "\n",
       "    .dataframe tbody tr th {\n",
       "        vertical-align: top;\n",
       "    }\n",
       "\n",
       "    .dataframe thead th {\n",
       "        text-align: right;\n",
       "    }\n",
       "</style>\n",
       "<table border=\"1\" class=\"dataframe\">\n",
       "  <thead>\n",
       "    <tr style=\"text-align: right;\">\n",
       "      <th></th>\n",
       "      <th>neutral</th>\n",
       "      <th>playoff</th>\n",
       "      <th>score1</th>\n",
       "      <th>score2</th>\n",
       "      <th>elo1_pre</th>\n",
       "      <th>elo2_pre</th>\n",
       "      <th>elo1_post</th>\n",
       "      <th>elo2_post</th>\n",
       "      <th>prob1</th>\n",
       "      <th>is_home1</th>\n",
       "    </tr>\n",
       "  </thead>\n",
       "  <tbody>\n",
       "  </tbody>\n",
       "</table>\n",
       "</div>"
      ],
      "text/plain": [
       "Empty DataFrame\n",
       "Columns: [neutral, playoff, score1, score2, elo1_pre, elo2_pre, elo1_post, elo2_post, prob1, is_home1]\n",
       "Index: []"
      ]
     },
     "execution_count": 8,
     "metadata": {},
     "output_type": "execute_result"
    }
   ],
   "source": [
    "df[df.isnull().any(axis=1)]"
   ]
  },
  {
   "cell_type": "code",
   "execution_count": 9,
   "metadata": {},
   "outputs": [
    {
     "data": {
      "text/html": [
       "<div>\n",
       "<style scoped>\n",
       "    .dataframe tbody tr th:only-of-type {\n",
       "        vertical-align: middle;\n",
       "    }\n",
       "\n",
       "    .dataframe tbody tr th {\n",
       "        vertical-align: top;\n",
       "    }\n",
       "\n",
       "    .dataframe thead th {\n",
       "        text-align: right;\n",
       "    }\n",
       "</style>\n",
       "<table border=\"1\" class=\"dataframe\">\n",
       "  <thead>\n",
       "    <tr style=\"text-align: right;\">\n",
       "      <th></th>\n",
       "      <th>neutral</th>\n",
       "      <th>playoff</th>\n",
       "      <th>score1</th>\n",
       "      <th>score2</th>\n",
       "      <th>elo1_pre</th>\n",
       "      <th>elo2_pre</th>\n",
       "      <th>elo1_post</th>\n",
       "      <th>elo2_post</th>\n",
       "      <th>prob1</th>\n",
       "      <th>is_home1</th>\n",
       "    </tr>\n",
       "  </thead>\n",
       "  <tbody>\n",
       "    <tr>\n",
       "      <th>0</th>\n",
       "      <td>0</td>\n",
       "      <td>1</td>\n",
       "      <td>89</td>\n",
       "      <td>78</td>\n",
       "      <td>1684</td>\n",
       "      <td>1634</td>\n",
       "      <td>1692</td>\n",
       "      <td>1627</td>\n",
       "      <td>0.718</td>\n",
       "      <td>1</td>\n",
       "    </tr>\n",
       "    <tr>\n",
       "      <th>1</th>\n",
       "      <td>0</td>\n",
       "      <td>1</td>\n",
       "      <td>78</td>\n",
       "      <td>89</td>\n",
       "      <td>1634</td>\n",
       "      <td>1684</td>\n",
       "      <td>1627</td>\n",
       "      <td>1692</td>\n",
       "      <td>0.282</td>\n",
       "      <td>0</td>\n",
       "    </tr>\n",
       "    <tr>\n",
       "      <th>2</th>\n",
       "      <td>0</td>\n",
       "      <td>1</td>\n",
       "      <td>86</td>\n",
       "      <td>90</td>\n",
       "      <td>1693</td>\n",
       "      <td>1626</td>\n",
       "      <td>1684</td>\n",
       "      <td>1634</td>\n",
       "      <td>0.476</td>\n",
       "      <td>0</td>\n",
       "    </tr>\n",
       "    <tr>\n",
       "      <th>3</th>\n",
       "      <td>0</td>\n",
       "      <td>1</td>\n",
       "      <td>90</td>\n",
       "      <td>86</td>\n",
       "      <td>1626</td>\n",
       "      <td>1693</td>\n",
       "      <td>1634</td>\n",
       "      <td>1684</td>\n",
       "      <td>0.524</td>\n",
       "      <td>1</td>\n",
       "    </tr>\n",
       "    <tr>\n",
       "      <th>4</th>\n",
       "      <td>0</td>\n",
       "      <td>1</td>\n",
       "      <td>94</td>\n",
       "      <td>81</td>\n",
       "      <td>1671</td>\n",
       "      <td>1648</td>\n",
       "      <td>1693</td>\n",
       "      <td>1626</td>\n",
       "      <td>0.399</td>\n",
       "      <td>0</td>\n",
       "    </tr>\n",
       "  </tbody>\n",
       "</table>\n",
       "</div>"
      ],
      "text/plain": [
       "   neutral  playoff  score1  score2  elo1_pre  elo2_pre  elo1_post  elo2_post  \\\n",
       "0        0        1      89      78      1684      1634       1692       1627   \n",
       "1        0        1      78      89      1634      1684       1627       1692   \n",
       "2        0        1      86      90      1693      1626       1684       1634   \n",
       "3        0        1      90      86      1626      1693       1634       1684   \n",
       "4        0        1      94      81      1671      1648       1693       1626   \n",
       "\n",
       "   prob1  is_home1  \n",
       "0  0.718         1  \n",
       "1  0.282         0  \n",
       "2  0.476         0  \n",
       "3  0.524         1  \n",
       "4  0.399         0  "
      ]
     },
     "execution_count": 9,
     "metadata": {},
     "output_type": "execute_result"
    }
   ],
   "source": [
    "df.head()"
   ]
  },
  {
   "cell_type": "markdown",
   "metadata": {},
   "source": [
    "### Datatype check of all the attributes"
   ]
  },
  {
   "cell_type": "code",
   "execution_count": 10,
   "metadata": {},
   "outputs": [
    {
     "data": {
      "text/plain": [
       "neutral        int64\n",
       "playoff        int64\n",
       "score1         int64\n",
       "score2         int64\n",
       "elo1_pre       int64\n",
       "elo2_pre       int64\n",
       "elo1_post      int64\n",
       "elo2_post      int64\n",
       "prob1        float64\n",
       "is_home1       int64\n",
       "dtype: object"
      ]
     },
     "execution_count": 10,
     "metadata": {},
     "output_type": "execute_result"
    }
   ],
   "source": [
    "df.dtypes"
   ]
  },
  {
   "cell_type": "markdown",
   "metadata": {},
   "source": [
    "### Data description\n"
   ]
  },
  {
   "cell_type": "code",
   "execution_count": 11,
   "metadata": {},
   "outputs": [
    {
     "data": {
      "text/html": [
       "<div>\n",
       "<style scoped>\n",
       "    .dataframe tbody tr th:only-of-type {\n",
       "        vertical-align: middle;\n",
       "    }\n",
       "\n",
       "    .dataframe tbody tr th {\n",
       "        vertical-align: top;\n",
       "    }\n",
       "\n",
       "    .dataframe thead th {\n",
       "        text-align: right;\n",
       "    }\n",
       "</style>\n",
       "<table border=\"1\" class=\"dataframe\">\n",
       "  <thead>\n",
       "    <tr style=\"text-align: right;\">\n",
       "      <th></th>\n",
       "      <th>neutral</th>\n",
       "      <th>playoff</th>\n",
       "      <th>score1</th>\n",
       "      <th>score2</th>\n",
       "      <th>elo1_pre</th>\n",
       "      <th>elo2_pre</th>\n",
       "      <th>elo1_post</th>\n",
       "      <th>elo2_post</th>\n",
       "      <th>prob1</th>\n",
       "      <th>is_home1</th>\n",
       "    </tr>\n",
       "  </thead>\n",
       "  <tbody>\n",
       "    <tr>\n",
       "      <th>count</th>\n",
       "      <td>10488.0</td>\n",
       "      <td>10488.00</td>\n",
       "      <td>10488.00</td>\n",
       "      <td>10488.00</td>\n",
       "      <td>10488.00</td>\n",
       "      <td>10488.00</td>\n",
       "      <td>10488.00</td>\n",
       "      <td>10488.00</td>\n",
       "      <td>10488.00</td>\n",
       "      <td>10488.0</td>\n",
       "    </tr>\n",
       "    <tr>\n",
       "      <th>mean</th>\n",
       "      <td>0.0</td>\n",
       "      <td>0.07</td>\n",
       "      <td>74.17</td>\n",
       "      <td>74.17</td>\n",
       "      <td>1493.72</td>\n",
       "      <td>1493.72</td>\n",
       "      <td>1493.72</td>\n",
       "      <td>1493.72</td>\n",
       "      <td>0.50</td>\n",
       "      <td>0.5</td>\n",
       "    </tr>\n",
       "    <tr>\n",
       "      <th>std</th>\n",
       "      <td>0.0</td>\n",
       "      <td>0.26</td>\n",
       "      <td>12.41</td>\n",
       "      <td>12.41</td>\n",
       "      <td>87.04</td>\n",
       "      <td>87.04</td>\n",
       "      <td>88.11</td>\n",
       "      <td>88.11</td>\n",
       "      <td>0.18</td>\n",
       "      <td>0.5</td>\n",
       "    </tr>\n",
       "    <tr>\n",
       "      <th>min</th>\n",
       "      <td>0.0</td>\n",
       "      <td>0.00</td>\n",
       "      <td>0.00</td>\n",
       "      <td>0.00</td>\n",
       "      <td>1183.00</td>\n",
       "      <td>1183.00</td>\n",
       "      <td>1168.00</td>\n",
       "      <td>1168.00</td>\n",
       "      <td>0.05</td>\n",
       "      <td>0.0</td>\n",
       "    </tr>\n",
       "    <tr>\n",
       "      <th>25%</th>\n",
       "      <td>0.0</td>\n",
       "      <td>0.00</td>\n",
       "      <td>66.00</td>\n",
       "      <td>66.00</td>\n",
       "      <td>1442.00</td>\n",
       "      <td>1442.00</td>\n",
       "      <td>1441.00</td>\n",
       "      <td>1441.00</td>\n",
       "      <td>0.36</td>\n",
       "      <td>0.0</td>\n",
       "    </tr>\n",
       "    <tr>\n",
       "      <th>50%</th>\n",
       "      <td>0.0</td>\n",
       "      <td>0.00</td>\n",
       "      <td>74.00</td>\n",
       "      <td>74.00</td>\n",
       "      <td>1498.00</td>\n",
       "      <td>1498.00</td>\n",
       "      <td>1497.00</td>\n",
       "      <td>1497.00</td>\n",
       "      <td>0.50</td>\n",
       "      <td>0.5</td>\n",
       "    </tr>\n",
       "    <tr>\n",
       "      <th>75%</th>\n",
       "      <td>0.0</td>\n",
       "      <td>0.00</td>\n",
       "      <td>82.00</td>\n",
       "      <td>82.00</td>\n",
       "      <td>1549.00</td>\n",
       "      <td>1549.00</td>\n",
       "      <td>1549.00</td>\n",
       "      <td>1549.00</td>\n",
       "      <td>0.64</td>\n",
       "      <td>1.0</td>\n",
       "    </tr>\n",
       "    <tr>\n",
       "      <th>max</th>\n",
       "      <td>0.0</td>\n",
       "      <td>1.00</td>\n",
       "      <td>127.00</td>\n",
       "      <td>127.00</td>\n",
       "      <td>1741.00</td>\n",
       "      <td>1741.00</td>\n",
       "      <td>1743.00</td>\n",
       "      <td>1743.00</td>\n",
       "      <td>0.95</td>\n",
       "      <td>1.0</td>\n",
       "    </tr>\n",
       "  </tbody>\n",
       "</table>\n",
       "</div>"
      ],
      "text/plain": [
       "       neutral   playoff    score1    score2  elo1_pre  elo2_pre  elo1_post  \\\n",
       "count  10488.0  10488.00  10488.00  10488.00  10488.00  10488.00   10488.00   \n",
       "mean       0.0      0.07     74.17     74.17   1493.72   1493.72    1493.72   \n",
       "std        0.0      0.26     12.41     12.41     87.04     87.04      88.11   \n",
       "min        0.0      0.00      0.00      0.00   1183.00   1183.00    1168.00   \n",
       "25%        0.0      0.00     66.00     66.00   1442.00   1442.00    1441.00   \n",
       "50%        0.0      0.00     74.00     74.00   1498.00   1498.00    1497.00   \n",
       "75%        0.0      0.00     82.00     82.00   1549.00   1549.00    1549.00   \n",
       "max        0.0      1.00    127.00    127.00   1741.00   1741.00    1743.00   \n",
       "\n",
       "       elo2_post     prob1  is_home1  \n",
       "count   10488.00  10488.00   10488.0  \n",
       "mean     1493.72      0.50       0.5  \n",
       "std        88.11      0.18       0.5  \n",
       "min      1168.00      0.05       0.0  \n",
       "25%      1441.00      0.36       0.0  \n",
       "50%      1497.00      0.50       0.5  \n",
       "75%      1549.00      0.64       1.0  \n",
       "max      1743.00      0.95       1.0  "
      ]
     },
     "execution_count": 11,
     "metadata": {},
     "output_type": "execute_result"
    }
   ],
   "source": [
    "pd.set_option('precision',2)\n",
    "df.describe()\n"
   ]
  },
  {
   "cell_type": "markdown",
   "metadata": {},
   "source": [
    "### Correlation check"
   ]
  },
  {
   "cell_type": "code",
   "execution_count": 12,
   "metadata": {},
   "outputs": [
    {
     "data": {
      "image/png": "[encoded data removed]",
      "text/plain": [
       "<Figure size 1440x1440 with 2 Axes>"
      ]
     },
     "metadata": {
      "needs_background": "light"
     },
     "output_type": "display_data"
    }
   ],
   "source": [
    "correlation=df.corr()\n",
    "top_corr_features=correlation.index\n",
    "plt.figure(figsize=(20,20))\n",
    "g=sns.heatmap(df[top_corr_features].corr(),annot=True,cmap=\"RdYlGn\")"
   ]
  },
  {
   "cell_type": "markdown",
   "metadata": {},
   "source": [
    "### Dropping the columns which are highly correlated"
   ]
  },
  {
   "cell_type": "code",
   "execution_count": 13,
   "metadata": {},
   "outputs": [],
   "source": [
    "df = df.drop(columns=['elo1_post','elo2_post','prob1','neutral'])"
   ]
  },
  {
   "cell_type": "markdown",
   "metadata": {},
   "source": [
    "### Correlation check after columns drop"
   ]
  },
  {
   "cell_type": "code",
   "execution_count": 14,
   "metadata": {
    "scrolled": false
   },
   "outputs": [
    {
     "data": {
      "image/png": "[encoded data removed]",
      "text/plain": [
       "<Figure size 1440x1440 with 2 Axes>"
      ]
     },
     "metadata": {
      "needs_background": "light"
     },
     "output_type": "display_data"
    }
   ],
   "source": [
    "correlation=df.corr()\n",
    "top_corr_features=correlation.index\n",
    "plt.figure(figsize=(20,20))\n",
    "g=sns.heatmap(df[top_corr_features].corr(),annot=True,cmap=\"RdYlGn\")"
   ]
  },
  {
   "cell_type": "markdown",
   "metadata": {},
   "source": [
    "### Skew check"
   ]
  },
  {
   "cell_type": "code",
   "execution_count": 15,
   "metadata": {},
   "outputs": [
    {
     "data": {
      "text/plain": [
       "playoff     3.28\n",
       "score1      0.14\n",
       "score2      0.14\n",
       "elo1_pre   -0.24\n",
       "elo2_pre   -0.24\n",
       "is_home1    0.00\n",
       "dtype: float64"
      ]
     },
     "execution_count": 15,
     "metadata": {},
     "output_type": "execute_result"
    }
   ],
   "source": [
    "df.skew()"
   ]
  },
  {
   "cell_type": "markdown",
   "metadata": {},
   "source": [
    "### Removing highly skewed attributes"
   ]
  },
  {
   "cell_type": "code",
   "execution_count": 16,
   "metadata": {},
   "outputs": [],
   "source": [
    "df = df.drop(columns=['playoff'])"
   ]
  },
  {
   "cell_type": "code",
   "execution_count": 17,
   "metadata": {},
   "outputs": [
    {
     "data": {
      "text/html": [
       "<div>\n",
       "<style scoped>\n",
       "    .dataframe tbody tr th:only-of-type {\n",
       "        vertical-align: middle;\n",
       "    }\n",
       "\n",
       "    .dataframe tbody tr th {\n",
       "        vertical-align: top;\n",
       "    }\n",
       "\n",
       "    .dataframe thead th {\n",
       "        text-align: right;\n",
       "    }\n",
       "</style>\n",
       "<table border=\"1\" class=\"dataframe\">\n",
       "  <thead>\n",
       "    <tr style=\"text-align: right;\">\n",
       "      <th></th>\n",
       "      <th>score1</th>\n",
       "      <th>score2</th>\n",
       "      <th>elo1_pre</th>\n",
       "      <th>elo2_pre</th>\n",
       "      <th>is_home1</th>\n",
       "    </tr>\n",
       "  </thead>\n",
       "  <tbody>\n",
       "    <tr>\n",
       "      <th>0</th>\n",
       "      <td>89</td>\n",
       "      <td>78</td>\n",
       "      <td>1684</td>\n",
       "      <td>1634</td>\n",
       "      <td>1</td>\n",
       "    </tr>\n",
       "    <tr>\n",
       "      <th>1</th>\n",
       "      <td>78</td>\n",
       "      <td>89</td>\n",
       "      <td>1634</td>\n",
       "      <td>1684</td>\n",
       "      <td>0</td>\n",
       "    </tr>\n",
       "    <tr>\n",
       "      <th>2</th>\n",
       "      <td>86</td>\n",
       "      <td>90</td>\n",
       "      <td>1693</td>\n",
       "      <td>1626</td>\n",
       "      <td>0</td>\n",
       "    </tr>\n",
       "    <tr>\n",
       "      <th>3</th>\n",
       "      <td>90</td>\n",
       "      <td>86</td>\n",
       "      <td>1626</td>\n",
       "      <td>1693</td>\n",
       "      <td>1</td>\n",
       "    </tr>\n",
       "    <tr>\n",
       "      <th>4</th>\n",
       "      <td>94</td>\n",
       "      <td>81</td>\n",
       "      <td>1671</td>\n",
       "      <td>1648</td>\n",
       "      <td>0</td>\n",
       "    </tr>\n",
       "    <tr>\n",
       "      <th>...</th>\n",
       "      <td>...</td>\n",
       "      <td>...</td>\n",
       "      <td>...</td>\n",
       "      <td>...</td>\n",
       "      <td>...</td>\n",
       "    </tr>\n",
       "    <tr>\n",
       "      <th>10483</th>\n",
       "      <td>73</td>\n",
       "      <td>61</td>\n",
       "      <td>1500</td>\n",
       "      <td>1500</td>\n",
       "      <td>0</td>\n",
       "    </tr>\n",
       "    <tr>\n",
       "      <th>10484</th>\n",
       "      <td>67</td>\n",
       "      <td>57</td>\n",
       "      <td>1500</td>\n",
       "      <td>1500</td>\n",
       "      <td>0</td>\n",
       "    </tr>\n",
       "    <tr>\n",
       "      <th>10485</th>\n",
       "      <td>57</td>\n",
       "      <td>67</td>\n",
       "      <td>1500</td>\n",
       "      <td>1500</td>\n",
       "      <td>1</td>\n",
       "    </tr>\n",
       "    <tr>\n",
       "      <th>10486</th>\n",
       "      <td>61</td>\n",
       "      <td>73</td>\n",
       "      <td>1500</td>\n",
       "      <td>1500</td>\n",
       "      <td>1</td>\n",
       "    </tr>\n",
       "    <tr>\n",
       "      <th>10487</th>\n",
       "      <td>56</td>\n",
       "      <td>76</td>\n",
       "      <td>1500</td>\n",
       "      <td>1500</td>\n",
       "      <td>1</td>\n",
       "    </tr>\n",
       "  </tbody>\n",
       "</table>\n",
       "<p>10488 rows × 5 columns</p>\n",
       "</div>"
      ],
      "text/plain": [
       "       score1  score2  elo1_pre  elo2_pre  is_home1\n",
       "0          89      78      1684      1634         1\n",
       "1          78      89      1634      1684         0\n",
       "2          86      90      1693      1626         0\n",
       "3          90      86      1626      1693         1\n",
       "4          94      81      1671      1648         0\n",
       "...       ...     ...       ...       ...       ...\n",
       "10483      73      61      1500      1500         0\n",
       "10484      67      57      1500      1500         0\n",
       "10485      57      67      1500      1500         1\n",
       "10486      61      73      1500      1500         1\n",
       "10487      56      76      1500      1500         1\n",
       "\n",
       "[10488 rows x 5 columns]"
      ]
     },
     "execution_count": 17,
     "metadata": {},
     "output_type": "execute_result"
    }
   ],
   "source": [
    "df"
   ]
  },
  {
   "cell_type": "markdown",
   "metadata": {},
   "source": [
    "### Histogram Plot of the attributes"
   ]
  },
  {
   "cell_type": "code",
   "execution_count": 18,
   "metadata": {},
   "outputs": [
    {
     "data": {
      "image/png": "[encoded data removed]",
      "text/plain": [
       "<Figure size 432x288 with 6 Axes>"
      ]
     },
     "metadata": {
      "needs_background": "light"
     },
     "output_type": "display_data"
    }
   ],
   "source": [
    "histogram = df.hist(bins=20)\n",
    "plt.show()"
   ]
  },
  {
   "cell_type": "markdown",
   "metadata": {},
   "source": [
    "### Box-plot "
   ]
  },
  {
   "cell_type": "code",
   "execution_count": 19,
   "metadata": {},
   "outputs": [
    {
     "data": {
      "text/plain": [
       "<matplotlib.axes._subplots.AxesSubplot at 0x12d63e88888>"
      ]
     },
     "execution_count": 19,
     "metadata": {},
     "output_type": "execute_result"
    },
    {
     "data": {
      "image/png": "[encoded data removed]",
      "text/plain": [
       "<Figure size 432x288 with 1 Axes>"
      ]
     },
     "metadata": {
      "needs_background": "light"
     },
     "output_type": "display_data"
    }
   ],
   "source": [
    "df.plot(kind='box',subplots=False,layout=(3,3),sharex=False,sharey=False)"
   ]
  },
  {
   "cell_type": "markdown",
   "metadata": {},
   "source": [
    "### Rows and Columns count after Data Cleaning"
   ]
  },
  {
   "cell_type": "code",
   "execution_count": 20,
   "metadata": {},
   "outputs": [
    {
     "data": {
      "text/plain": [
       "(10488, 5)"
      ]
     },
     "execution_count": 20,
     "metadata": {},
     "output_type": "execute_result"
    }
   ],
   "source": [
    "df.shape"
   ]
  },
  {
   "cell_type": "code",
   "execution_count": 21,
   "metadata": {},
   "outputs": [
    {
     "data": {
      "text/html": [
       "<div>\n",
       "<style scoped>\n",
       "    .dataframe tbody tr th:only-of-type {\n",
       "        vertical-align: middle;\n",
       "    }\n",
       "\n",
       "    .dataframe tbody tr th {\n",
       "        vertical-align: top;\n",
       "    }\n",
       "\n",
       "    .dataframe thead th {\n",
       "        text-align: right;\n",
       "    }\n",
       "</style>\n",
       "<table border=\"1\" class=\"dataframe\">\n",
       "  <thead>\n",
       "    <tr style=\"text-align: right;\">\n",
       "      <th></th>\n",
       "      <th>score1</th>\n",
       "      <th>score2</th>\n",
       "      <th>elo1_pre</th>\n",
       "      <th>elo2_pre</th>\n",
       "      <th>is_home1</th>\n",
       "    </tr>\n",
       "  </thead>\n",
       "  <tbody>\n",
       "    <tr>\n",
       "      <th>0</th>\n",
       "      <td>89</td>\n",
       "      <td>78</td>\n",
       "      <td>1684</td>\n",
       "      <td>1634</td>\n",
       "      <td>1</td>\n",
       "    </tr>\n",
       "    <tr>\n",
       "      <th>1</th>\n",
       "      <td>78</td>\n",
       "      <td>89</td>\n",
       "      <td>1634</td>\n",
       "      <td>1684</td>\n",
       "      <td>0</td>\n",
       "    </tr>\n",
       "    <tr>\n",
       "      <th>2</th>\n",
       "      <td>86</td>\n",
       "      <td>90</td>\n",
       "      <td>1693</td>\n",
       "      <td>1626</td>\n",
       "      <td>0</td>\n",
       "    </tr>\n",
       "    <tr>\n",
       "      <th>3</th>\n",
       "      <td>90</td>\n",
       "      <td>86</td>\n",
       "      <td>1626</td>\n",
       "      <td>1693</td>\n",
       "      <td>1</td>\n",
       "    </tr>\n",
       "    <tr>\n",
       "      <th>4</th>\n",
       "      <td>94</td>\n",
       "      <td>81</td>\n",
       "      <td>1671</td>\n",
       "      <td>1648</td>\n",
       "      <td>0</td>\n",
       "    </tr>\n",
       "  </tbody>\n",
       "</table>\n",
       "</div>"
      ],
      "text/plain": [
       "   score1  score2  elo1_pre  elo2_pre  is_home1\n",
       "0      89      78      1684      1634         1\n",
       "1      78      89      1634      1684         0\n",
       "2      86      90      1693      1626         0\n",
       "3      90      86      1626      1693         1\n",
       "4      94      81      1671      1648         0"
      ]
     },
     "execution_count": 21,
     "metadata": {},
     "output_type": "execute_result"
    }
   ],
   "source": [
    "df.head()"
   ]
  },
  {
   "cell_type": "markdown",
   "metadata": {},
   "source": [
    "### Rescaling Data"
   ]
  },
  {
   "cell_type": "code",
   "execution_count": 22,
   "metadata": {},
   "outputs": [
    {
     "name": "stdout",
     "output_type": "stream",
     "text": [
      "[[2.102 1.843 2.694 2.425 3.   ]\n",
      " [1.843 2.102 2.425 2.694 0.   ]\n",
      " [2.031 2.126 2.742 2.382 0.   ]\n",
      " [2.126 2.031 2.382 2.742 3.   ]\n",
      " [2.22  1.913 2.624 2.5   0.   ]\n",
      " [1.913 2.22  2.5   2.624 3.   ]]\n"
     ]
    }
   ],
   "source": [
    "\n",
    "array = df.values\n",
    "x = array[:,0:5]\n",
    "scale=MinMaxScaler(feature_range=(0,3))\n",
    "rescaled_data=scale.fit_transform(x)\n",
    "set_printoptions(precision=3)\n",
    "print(rescaled_data[0:6,:])"
   ]
  },
  {
   "cell_type": "code",
   "execution_count": 23,
   "metadata": {},
   "outputs": [],
   "source": [
    "rescaled_data=pd.DataFrame(rescaled_data)"
   ]
  },
  {
   "cell_type": "markdown",
   "metadata": {},
   "source": [
    "### Defining Features and Labels\n"
   ]
  },
  {
   "cell_type": "code",
   "execution_count": 24,
   "metadata": {},
   "outputs": [],
   "source": [
    "features = rescaled_data.values[:,0:4]\n",
    "label = rescaled_data.values[:,4]"
   ]
  },
  {
   "cell_type": "markdown",
   "metadata": {},
   "source": [
    "### Train Test Split"
   ]
  },
  {
   "cell_type": "code",
   "execution_count": 25,
   "metadata": {},
   "outputs": [],
   "source": [
    "trainfeature,testfeature,trainlabel,testlabel=train_test_split(features,label,test_size=.30,random_state=15)"
   ]
  },
  {
   "cell_type": "markdown",
   "metadata": {},
   "source": [
    "### Correspondence of training and testing data\n"
   ]
  },
  {
   "cell_type": "code",
   "execution_count": 26,
   "metadata": {},
   "outputs": [
    {
     "name": "stdout",
     "output_type": "stream",
     "text": [
      "7341\n",
      "7341\n",
      "3147\n",
      "3147\n"
     ]
    }
   ],
   "source": [
    "print(len(trainfeature))\n",
    "print(len(trainlabel))\n",
    "print(len(testfeature))\n",
    "print(len(testlabel))"
   ]
  },
  {
   "cell_type": "markdown",
   "metadata": {},
   "source": [
    "## Step 3 - Implement Algorithm"
   ]
  },
  {
   "cell_type": "code",
   "execution_count": 27,
   "metadata": {},
   "outputs": [
    {
     "data": {
      "text/plain": [
       "DecisionTreeClassifier(ccp_alpha=0.0, class_weight=None, criterion='gini',\n",
       "                       max_depth=None, max_features=None, max_leaf_nodes=None,\n",
       "                       min_impurity_decrease=0.0, min_impurity_split=None,\n",
       "                       min_samples_leaf=1, min_samples_split=2,\n",
       "                       min_weight_fraction_leaf=0.0, presort='deprecated',\n",
       "                       random_state=None, splitter='best')"
      ]
     },
     "execution_count": 27,
     "metadata": {},
     "output_type": "execute_result"
    }
   ],
   "source": [
    "obj = DecisionTreeClassifier()\n",
    "obj.fit(trainfeature,trainlabel)"
   ]
  },
  {
   "cell_type": "markdown",
   "metadata": {},
   "source": [
    "## Step 4 - Prediction"
   ]
  },
  {
   "cell_type": "code",
   "execution_count": 28,
   "metadata": {},
   "outputs": [],
   "source": [
    "pred_results = obj.predict(testfeature)"
   ]
  },
  {
   "cell_type": "markdown",
   "metadata": {},
   "source": [
    "## Step 5 - Evaluation"
   ]
  },
  {
   "cell_type": "code",
   "execution_count": 29,
   "metadata": {},
   "outputs": [
    {
     "name": "stdout",
     "output_type": "stream",
     "text": [
      "Accuracy of the model is 53.35239911026375\n"
     ]
    }
   ],
   "source": [
    "acc = accuracy_score(testlabel,pred_results)\n",
    "print('Accuracy of the model is {}'.format(acc*100))"
   ]
  }
 ],
 "metadata": {
  "kernelspec": {
   "display_name": "Python 3",
   "language": "python",
   "name": "python3"
  },
  "language_info": {
   "codemirror_mode": {
    "name": "ipython",
    "version": 3
   },
   "file_extension": ".py",
   "mimetype": "text/x-python",
   "name": "python",
   "nbconvert_exporter": "python",
   "pygments_lexer": "ipython3",
   "version": "3.7.6"
  }
 },
 "nbformat": 4,
 "nbformat_minor": 4
}
